{
 "cells": [
  {
   "cell_type": "code",
   "execution_count": 1,
   "metadata": {},
   "outputs": [],
   "source": [
    "import numpy as np\n",
    "import gym\n",
    "import random\n",
    "import time\n",
    "from IPython.display import clear_output"
   ]
  },
  {
   "cell_type": "code",
   "execution_count": 2,
   "metadata": {},
   "outputs": [
    {
     "name": "stdout",
     "output_type": "stream",
     "text": [
      "[[0. 0. 0. 0.]\n",
      " [0. 0. 0. 0.]\n",
      " [0. 0. 0. 0.]\n",
      " [0. 0. 0. 0.]\n",
      " [0. 0. 0. 0.]\n",
      " [0. 0. 0. 0.]\n",
      " [0. 0. 0. 0.]\n",
      " [0. 0. 0. 0.]\n",
      " [0. 0. 0. 0.]\n",
      " [0. 0. 0. 0.]\n",
      " [0. 0. 0. 0.]\n",
      " [0. 0. 0. 0.]\n",
      " [0. 0. 0. 0.]\n",
      " [0. 0. 0. 0.]\n",
      " [0. 0. 0. 0.]\n",
      " [0. 0. 0. 0.]]\n"
     ]
    }
   ],
   "source": [
    "env = gym.make(\"FrozenLake-v0\")\n",
    "\n",
    "action_space_size = env.action_space.n\n",
    "state_space_size = env.observation_space.n\n",
    "\n",
    "q_table = np.zeros((state_space_size,action_space_size))\n",
    "print(q_table)"
   ]
  },
  {
   "cell_type": "code",
   "execution_count": 3,
   "metadata": {},
   "outputs": [],
   "source": [
    "num_episodes = 10000\n",
    "max_steps_per_episode = 100\n",
    "\n",
    "learning_rate = 0.1\n",
    "discount_rate = 0.99\n",
    "\n",
    "exploration_rate = 1\n",
    "max_exploration = 1\n",
    "min_exploration = 0.01\n",
    "exploration_decay_rate = 0.001"
   ]
  },
  {
   "cell_type": "code",
   "execution_count": 4,
   "metadata": {},
   "outputs": [
    {
     "name": "stdout",
     "output_type": "stream",
     "text": [
      "average reward per thousand episodes\n",
      "1000 : 0.048000000000000036\n",
      "2000 : 0.21000000000000016\n",
      "3000 : 0.4090000000000003\n",
      "4000 : 0.5640000000000004\n",
      "5000 : 0.6610000000000005\n",
      "6000 : 0.6840000000000005\n",
      "7000 : 0.6830000000000005\n",
      "8000 : 0.6690000000000005\n",
      "9000 : 0.6830000000000005\n",
      "10000 : 0.6780000000000005\n"
     ]
    }
   ],
   "source": [
    "reward_all_episode = []\n",
    "\n",
    "for episode in range(num_episodes):\n",
    "    state = env.reset()\n",
    "    done = False\n",
    "    rewards_current_episode = 0\n",
    "\n",
    "    for step in range(max_steps_per_episode):\n",
    "        exploration_rate_threshold = random.uniform(0,1)\n",
    "        if exploration_rate_threshold > exploration_rate:\n",
    "             action = np.argmax(q_table[state,:])\n",
    "        else:\n",
    "            action = env.action_space.sample()\n",
    "\n",
    "        new_state,reward,done,info = env.step(action)\n",
    "        ## bellman equation\n",
    "        q_table[state,action] = q_table[state,action]*(1-learning_rate) + learning_rate*(reward+discount_rate*np.max(q_table[new_state,:]))\n",
    "        ## new_q_value        =              old_q_value                +             learned_Value\n",
    "\n",
    "        ## learned_value = reward + discount * maximum_future_reward\n",
    "        state = new_state\n",
    "        rewards_current_episode += reward\n",
    "\n",
    "        if done == True:\n",
    "            break\n",
    "    exploration_rate = min_exploration + (max_exploration-min_exploration)*np.exp(-exploration_decay_rate*episode)\n",
    "    reward_all_episode.append(rewards_current_episode)\n",
    "\n",
    "rewards_per_thosand_episode = np.split(np.array(reward_all_episode),num_episodes/1000)\n",
    "count = 1000\n",
    "print(\"average reward per thousand episodes\")\n",
    "for r in rewards_per_thosand_episode:\n",
    "    print(count,\":\",str(sum(r/1000)))\n",
    "    count += 1000"
   ]
  },
  {
   "cell_type": "code",
   "execution_count": 5,
   "metadata": {},
   "outputs": [
    {
     "name": "stdout",
     "output_type": "stream",
     "text": [
      "\n",
      "\n",
      "_____Q-table______\n",
      "\n",
      "[[0.49818669 0.47936071 0.47698893 0.46724047]\n",
      " [0.28501847 0.35503982 0.26316444 0.45884631]\n",
      " [0.38410106 0.42083675 0.36585155 0.44079499]\n",
      " [0.22989985 0.25696199 0.24469667 0.42883518]\n",
      " [0.51350744 0.42967944 0.41405821 0.41691798]\n",
      " [0.         0.         0.         0.        ]\n",
      " [0.30554234 0.12148767 0.16527969 0.13279913]\n",
      " [0.         0.         0.         0.        ]\n",
      " [0.407112   0.44253845 0.41667371 0.54392541]\n",
      " [0.37205166 0.57175615 0.4549835  0.3693395 ]\n",
      " [0.46619889 0.42403895 0.38213566 0.33201974]\n",
      " [0.         0.         0.         0.        ]\n",
      " [0.         0.         0.         0.        ]\n",
      " [0.40666186 0.52473504 0.73557002 0.57093831]\n",
      " [0.74502713 0.86386414 0.7412584  0.78848813]\n",
      " [0.         0.         0.         0.        ]]\n"
     ]
    }
   ],
   "source": [
    "print(\"\\n\\n_____Q-table______\\n\")\n",
    "print(q_table)"
   ]
  },
  {
   "cell_type": "code",
   "execution_count": 6,
   "metadata": {},
   "outputs": [
    {
     "name": "stdout",
     "output_type": "stream",
     "text": [
      "you lose or you in the hole\n"
     ]
    }
   ],
   "source": [
    "\n",
    "\n",
    "for episode in range(3):\n",
    "    state = env.reset()\n",
    "    done = False\n",
    "    print(\"episode number\",episode)\n",
    "    time.sleep(1)\n",
    "    rewards_current_episode = 0\n",
    "\n",
    "    for step in range(max_steps_per_episode):\n",
    "        clear_output(True)\n",
    "        env.render()\n",
    "        time.sleep(.25)\n",
    "    \n",
    "        action = np.argmax(q_table[state,:])\n",
    "        new_state,reward,done,info = env.step(action)\n",
    "        if done == True:\n",
    "            clear_output(True)\n",
    "            if reward == 1:\n",
    "                print(\"you reach the goal\")\n",
    "            else:\n",
    "                print(\"you lose or you in the hole\")\n",
    "            break\n",
    "        state = new_state"
   ]
  },
  {
   "cell_type": "code",
   "execution_count": null,
   "metadata": {},
   "outputs": [],
   "source": []
  }
 ],
 "metadata": {
  "kernelspec": {
   "display_name": "Python 3",
   "language": "python",
   "name": "python3"
  },
  "language_info": {
   "codemirror_mode": {
    "name": "ipython",
    "version": 3
   },
   "file_extension": ".py",
   "mimetype": "text/x-python",
   "name": "python",
   "nbconvert_exporter": "python",
   "pygments_lexer": "ipython3",
   "version": "3.6.9"
  }
 },
 "nbformat": 4,
 "nbformat_minor": 2
}
